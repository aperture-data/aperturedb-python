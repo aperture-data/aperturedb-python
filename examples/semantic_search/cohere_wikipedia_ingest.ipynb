{
 "cells": [
  {
   "cell_type": "markdown",
   "metadata": {},
   "source": [
    "# Building a RAG chain from \n",
    "\n",
    "First we need to install a few libraries."
   ]
  },
  {
   "cell_type": "code",
   "execution_count": 10,
   "metadata": {},
   "outputs": [
    {
     "name": "stdout",
     "output_type": "stream",
     "text": [
      "Defaulting to user installation because normal site-packages is not writeable\n",
      "Requirement already satisfied: aperturedb in /home/gavin/.local/lib/python3.10/site-packages (0.4.33)\n",
      "Requirement already satisfied: langchain in /home/gavin/.local/lib/python3.10/site-packages (0.2.10)\n",
      "Requirement already satisfied: langchain-community in /home/gavin/.local/lib/python3.10/site-packages (0.2.7)\n",
      "Requirement already satisfied: langchainhub in /home/gavin/.local/lib/python3.10/site-packages (0.1.15)\n",
      "Requirement already satisfied: datasets in /home/gavin/.local/lib/python3.10/site-packages (2.19.0)\n",
      "Requirement already satisfied: protobuf<5.0.0,>=3.20.3 in /home/gavin/.local/lib/python3.10/site-packages (from aperturedb) (3.20.3)\n",
      "Requirement already satisfied: scikit-image in /home/gavin/.local/lib/python3.10/site-packages (from aperturedb) (0.22.0)\n",
      "Requirement already satisfied: image in /home/gavin/.local/lib/python3.10/site-packages (from aperturedb) (1.5.33)\n",
      "Requirement already satisfied: requests in /home/gavin/.local/lib/python3.10/site-packages (from aperturedb) (2.31.0)\n",
      "Requirement already satisfied: boto3 in /home/gavin/.local/lib/python3.10/site-packages (from aperturedb) (1.34.34)\n",
      "Requirement already satisfied: numpy in /home/gavin/.local/lib/python3.10/site-packages (from aperturedb) (1.26.3)\n",
      "Requirement already satisfied: distributed in /home/gavin/.local/lib/python3.10/site-packages (from aperturedb) (2024.1.1)\n",
      "Requirement already satisfied: matplotlib in /home/gavin/.local/lib/python3.10/site-packages (from aperturedb) (3.8.2)\n",
      "Requirement already satisfied: pandas in /home/gavin/.local/lib/python3.10/site-packages (from aperturedb) (2.2.0)\n",
      "Requirement already satisfied: kaggle!=1.6.15 in /home/gavin/.local/lib/python3.10/site-packages (from aperturedb) (1.6.4)\n",
      "Requirement already satisfied: google-cloud-storage in /home/gavin/.local/lib/python3.10/site-packages (from aperturedb) (2.14.0)\n",
      "Requirement already satisfied: ipython in /usr/local/lib/python3.10/dist-packages (from aperturedb) (8.21.0)\n",
      "Requirement already satisfied: dask[complete] in /home/gavin/.local/lib/python3.10/site-packages (from aperturedb) (2024.1.1)\n",
      "Requirement already satisfied: ipywidgets in /home/gavin/.local/lib/python3.10/site-packages (from aperturedb) (8.0.4)\n",
      "Requirement already satisfied: pydantic>=2.6.0 in /home/gavin/.local/lib/python3.10/site-packages (from aperturedb) (2.6.0)\n",
      "Requirement already satisfied: devtools in /home/gavin/.local/lib/python3.10/site-packages (from aperturedb) (0.12.2)\n",
      "Requirement already satisfied: typer in /home/gavin/.local/lib/python3.10/site-packages (from aperturedb) (0.9.0)\n",
      "Requirement already satisfied: opencv-python-headless in /home/gavin/.local/lib/python3.10/site-packages (from aperturedb) (4.10.0.82)\n",
      "Requirement already satisfied: grpcio-status==1.48.2 in /home/gavin/.local/lib/python3.10/site-packages (from aperturedb) (1.48.2)\n",
      "Requirement already satisfied: keepalive-socket==0.0.1 in /home/gavin/.local/lib/python3.10/site-packages (from aperturedb) (0.0.1)\n",
      "Requirement already satisfied: graphviz==0.20.2 in /home/gavin/.local/lib/python3.10/site-packages (from aperturedb) (0.20.2)\n",
      "Requirement already satisfied: python-dotenv in /home/gavin/.local/lib/python3.10/site-packages (from aperturedb) (1.0.1)\n",
      "Requirement already satisfied: grpcio>=1.48.2 in /home/gavin/.local/lib/python3.10/site-packages (from grpcio-status==1.48.2->aperturedb) (1.60.0)\n",
      "Requirement already satisfied: googleapis-common-protos>=1.5.5 in /home/gavin/.local/lib/python3.10/site-packages (from grpcio-status==1.48.2->aperturedb) (1.62.0)\n",
      "Requirement already satisfied: ipykernel>=4.5.1 in /usr/local/lib/python3.10/dist-packages (from ipywidgets->aperturedb) (6.29.0)\n",
      "Requirement already satisfied: traitlets>=4.3.1 in /usr/local/lib/python3.10/dist-packages (from ipywidgets->aperturedb) (5.14.1)\n",
      "Requirement already satisfied: widgetsnbextension~=4.0 in /home/gavin/.local/lib/python3.10/site-packages (from ipywidgets->aperturedb) (4.0.9)\n",
      "Requirement already satisfied: jupyterlab-widgets~=3.0 in /home/gavin/.local/lib/python3.10/site-packages (from ipywidgets->aperturedb) (3.0.9)\n",
      "Requirement already satisfied: PyYAML>=5.3 in /usr/lib/python3/dist-packages (from langchain) (5.4.1)\n",
      "Requirement already satisfied: SQLAlchemy<3,>=1.4 in /home/gavin/.local/lib/python3.10/site-packages (from langchain) (2.0.29)\n",
      "Requirement already satisfied: aiohttp<4.0.0,>=3.8.3 in /home/gavin/.local/lib/python3.10/site-packages (from langchain) (3.9.3)\n",
      "Requirement already satisfied: async-timeout<5.0.0,>=4.0.0 in /home/gavin/.local/lib/python3.10/site-packages (from langchain) (4.0.3)\n",
      "Requirement already satisfied: langchain-core<0.3.0,>=0.2.22 in /home/gavin/.local/lib/python3.10/site-packages (from langchain) (0.2.27)\n",
      "Requirement already satisfied: langchain-text-splitters<0.3.0,>=0.2.0 in /home/gavin/.local/lib/python3.10/site-packages (from langchain) (0.2.2)\n",
      "Requirement already satisfied: langsmith<0.2.0,>=0.1.17 in /home/gavin/.local/lib/python3.10/site-packages (from langchain) (0.1.83)\n",
      "Requirement already satisfied: tenacity!=8.4.0,<9.0.0,>=8.1.0 in /home/gavin/.local/lib/python3.10/site-packages (from langchain) (8.2.3)\n",
      "Requirement already satisfied: dataclasses-json<0.7,>=0.5.7 in /home/gavin/.local/lib/python3.10/site-packages (from langchain-community) (0.6.4)\n",
      "Requirement already satisfied: types-requests<3.0.0.0,>=2.31.0.2 in /home/gavin/.local/lib/python3.10/site-packages (from langchainhub) (2.31.0.20240403)\n",
      "Requirement already satisfied: filelock in /home/gavin/.local/lib/python3.10/site-packages (from datasets) (3.13.3)\n",
      "Requirement already satisfied: pyarrow>=12.0.0 in /home/gavin/.local/lib/python3.10/site-packages (from datasets) (15.0.0)\n",
      "Requirement already satisfied: pyarrow-hotfix in /home/gavin/.local/lib/python3.10/site-packages (from datasets) (0.6)\n",
      "Requirement already satisfied: dill<0.3.9,>=0.3.0 in /home/gavin/.local/lib/python3.10/site-packages (from datasets) (0.3.8)\n",
      "Requirement already satisfied: tqdm>=4.62.1 in /home/gavin/.local/lib/python3.10/site-packages (from datasets) (4.66.1)\n",
      "Requirement already satisfied: xxhash in /home/gavin/.local/lib/python3.10/site-packages (from datasets) (3.4.1)\n",
      "Requirement already satisfied: multiprocess in /home/gavin/.local/lib/python3.10/site-packages (from datasets) (0.70.16)\n",
      "Requirement already satisfied: fsspec<=2024.3.1,>=2023.1.0 in /home/gavin/.local/lib/python3.10/site-packages (from fsspec[http]<=2024.3.1,>=2023.1.0->datasets) (2024.2.0)\n",
      "Requirement already satisfied: huggingface-hub>=0.21.2 in /home/gavin/.local/lib/python3.10/site-packages (from datasets) (0.22.2)\n",
      "Requirement already satisfied: packaging in /usr/local/lib/python3.10/dist-packages (from datasets) (23.2)\n",
      "Requirement already satisfied: aiosignal>=1.1.2 in /home/gavin/.local/lib/python3.10/site-packages (from aiohttp<4.0.0,>=3.8.3->langchain) (1.3.1)\n",
      "Requirement already satisfied: attrs>=17.3.0 in /usr/lib/python3/dist-packages (from aiohttp<4.0.0,>=3.8.3->langchain) (21.2.0)\n",
      "Requirement already satisfied: frozenlist>=1.1.1 in /home/gavin/.local/lib/python3.10/site-packages (from aiohttp<4.0.0,>=3.8.3->langchain) (1.4.1)\n",
      "Requirement already satisfied: multidict<7.0,>=4.5 in /home/gavin/.local/lib/python3.10/site-packages (from aiohttp<4.0.0,>=3.8.3->langchain) (6.0.5)\n",
      "Requirement already satisfied: yarl<2.0,>=1.0 in /home/gavin/.local/lib/python3.10/site-packages (from aiohttp<4.0.0,>=3.8.3->langchain) (1.9.4)\n",
      "Requirement already satisfied: marshmallow<4.0.0,>=3.18.0 in /home/gavin/.local/lib/python3.10/site-packages (from dataclasses-json<0.7,>=0.5.7->langchain-community) (3.21.1)\n",
      "Requirement already satisfied: typing-inspect<1,>=0.4.0 in /home/gavin/.local/lib/python3.10/site-packages (from dataclasses-json<0.7,>=0.5.7->langchain-community) (0.9.0)\n",
      "Requirement already satisfied: typing-extensions>=3.7.4.3 in /usr/local/lib/python3.10/dist-packages (from huggingface-hub>=0.21.2->datasets) (4.9.0)\n",
      "Requirement already satisfied: decorator in /usr/local/lib/python3.10/dist-packages (from ipython->aperturedb) (5.1.1)\n",
      "Requirement already satisfied: jedi>=0.16 in /usr/local/lib/python3.10/dist-packages (from ipython->aperturedb) (0.19.1)\n",
      "Requirement already satisfied: matplotlib-inline in /usr/local/lib/python3.10/dist-packages (from ipython->aperturedb) (0.1.6)\n",
      "Requirement already satisfied: prompt-toolkit<3.1.0,>=3.0.41 in /usr/local/lib/python3.10/dist-packages (from ipython->aperturedb) (3.0.43)\n",
      "Requirement already satisfied: pygments>=2.4.0 in /usr/local/lib/python3.10/dist-packages (from ipython->aperturedb) (2.17.2)\n",
      "Requirement already satisfied: stack-data in /usr/local/lib/python3.10/dist-packages (from ipython->aperturedb) (0.6.3)\n",
      "Requirement already satisfied: exceptiongroup in /usr/local/lib/python3.10/dist-packages (from ipython->aperturedb) (1.2.0)\n",
      "Requirement already satisfied: pexpect>4.3 in /usr/lib/python3/dist-packages (from ipython->aperturedb) (4.8.0)\n",
      "Requirement already satisfied: bleach in /home/gavin/.local/lib/python3.10/site-packages (from kaggle!=1.6.15->aperturedb) (6.1.0)\n",
      "Requirement already satisfied: certifi in /usr/lib/python3/dist-packages (from kaggle!=1.6.15->aperturedb) (2020.6.20)\n",
      "Requirement already satisfied: python-dateutil in /usr/local/lib/python3.10/dist-packages (from kaggle!=1.6.15->aperturedb) (2.8.2)\n",
      "Requirement already satisfied: python-slugify in /home/gavin/.local/lib/python3.10/site-packages (from kaggle!=1.6.15->aperturedb) (8.0.3)\n",
      "Requirement already satisfied: six>=1.10 in /usr/lib/python3/dist-packages (from kaggle!=1.6.15->aperturedb) (1.16.0)\n",
      "Requirement already satisfied: urllib3 in /home/gavin/.local/lib/python3.10/site-packages (from kaggle!=1.6.15->aperturedb) (2.0.7)\n",
      "Requirement already satisfied: jsonpatch<2.0,>=1.33 in /home/gavin/.local/lib/python3.10/site-packages (from langchain-core<0.3.0,>=0.2.22->langchain) (1.33)\n",
      "Requirement already satisfied: orjson<4.0.0,>=3.9.14 in /home/gavin/.local/lib/python3.10/site-packages (from langsmith<0.2.0,>=0.1.17->langchain) (3.10.0)\n",
      "Requirement already satisfied: annotated-types>=0.4.0 in /home/gavin/.local/lib/python3.10/site-packages (from pydantic>=2.6.0->aperturedb) (0.6.0)\n",
      "Requirement already satisfied: pydantic-core==2.16.1 in /home/gavin/.local/lib/python3.10/site-packages (from pydantic>=2.6.0->aperturedb) (2.16.1)\n",
      "Requirement already satisfied: charset-normalizer<4,>=2 in /home/gavin/.local/lib/python3.10/site-packages (from requests->aperturedb) (3.3.2)\n",
      "Requirement already satisfied: idna<4,>=2.5 in /usr/lib/python3/dist-packages (from requests->aperturedb) (3.3)\n",
      "Requirement already satisfied: greenlet!=0.4.17 in /home/gavin/.local/lib/python3.10/site-packages (from SQLAlchemy<3,>=1.4->langchain) (3.0.3)\n",
      "Requirement already satisfied: botocore<1.35.0,>=1.34.34 in /home/gavin/.local/lib/python3.10/site-packages (from boto3->aperturedb) (1.34.34)\n",
      "Requirement already satisfied: jmespath<2.0.0,>=0.7.1 in /home/gavin/.local/lib/python3.10/site-packages (from boto3->aperturedb) (1.0.1)\n",
      "Requirement already satisfied: s3transfer<0.11.0,>=0.10.0 in /home/gavin/.local/lib/python3.10/site-packages (from boto3->aperturedb) (0.10.0)\n",
      "Requirement already satisfied: click>=8.1 in /home/gavin/.local/lib/python3.10/site-packages (from dask[complete]->aperturedb) (8.1.7)\n",
      "Requirement already satisfied: cloudpickle>=1.5.0 in /home/gavin/.local/lib/python3.10/site-packages (from dask[complete]->aperturedb) (3.0.0)\n",
      "Requirement already satisfied: partd>=1.2.0 in /home/gavin/.local/lib/python3.10/site-packages (from dask[complete]->aperturedb) (1.4.1)\n",
      "Requirement already satisfied: toolz>=0.10.0 in /home/gavin/.local/lib/python3.10/site-packages (from dask[complete]->aperturedb) (0.12.1)\n",
      "Requirement already satisfied: importlib-metadata>=4.13.0 in /home/gavin/.local/lib/python3.10/site-packages (from dask[complete]->aperturedb) (7.0.1)\n",
      "Requirement already satisfied: lz4>=4.3.2 in /home/gavin/.local/lib/python3.10/site-packages (from dask[complete]->aperturedb) (4.3.3)\n",
      "Requirement already satisfied: asttokens<3.0.0,>=2.0.0 in /usr/local/lib/python3.10/dist-packages (from devtools->aperturedb) (2.4.1)\n",
      "Requirement already satisfied: executing>=1.1.1 in /usr/local/lib/python3.10/dist-packages (from devtools->aperturedb) (2.0.1)\n",
      "Requirement already satisfied: jinja2>=2.10.3 in /usr/lib/python3/dist-packages (from distributed->aperturedb) (3.0.3)\n",
      "Requirement already satisfied: locket>=1.0.0 in /home/gavin/.local/lib/python3.10/site-packages (from distributed->aperturedb) (1.0.0)\n",
      "Requirement already satisfied: msgpack>=1.0.0 in /home/gavin/.local/lib/python3.10/site-packages (from distributed->aperturedb) (1.0.7)\n",
      "Requirement already satisfied: psutil>=5.7.2 in /usr/local/lib/python3.10/dist-packages (from distributed->aperturedb) (5.9.8)\n",
      "Requirement already satisfied: sortedcontainers>=2.0.5 in /home/gavin/.local/lib/python3.10/site-packages (from distributed->aperturedb) (2.4.0)\n",
      "Requirement already satisfied: tblib>=1.6.0 in /home/gavin/.local/lib/python3.10/site-packages (from distributed->aperturedb) (3.0.0)\n",
      "Requirement already satisfied: tornado>=6.0.4 in /usr/local/lib/python3.10/dist-packages (from distributed->aperturedb) (6.4)\n",
      "Requirement already satisfied: zict>=3.0.0 in /home/gavin/.local/lib/python3.10/site-packages (from distributed->aperturedb) (3.0.0)\n",
      "Requirement already satisfied: google-auth<3.0dev,>=2.23.3 in /home/gavin/.local/lib/python3.10/site-packages (from google-cloud-storage->aperturedb) (2.35.0)\n",
      "Requirement already satisfied: google-api-core!=2.0.*,!=2.1.*,!=2.2.*,!=2.3.0,<3.0.0dev,>=1.31.5 in /home/gavin/.local/lib/python3.10/site-packages (from google-cloud-storage->aperturedb) (2.16.2)\n",
      "Requirement already satisfied: google-cloud-core<3.0dev,>=2.3.0 in /home/gavin/.local/lib/python3.10/site-packages (from google-cloud-storage->aperturedb) (2.4.1)\n",
      "Requirement already satisfied: google-resumable-media>=2.6.0 in /home/gavin/.local/lib/python3.10/site-packages (from google-cloud-storage->aperturedb) (2.7.0)\n",
      "Requirement already satisfied: google-crc32c<2.0dev,>=1.0 in /home/gavin/.local/lib/python3.10/site-packages (from google-cloud-storage->aperturedb) (1.5.0)\n",
      "Requirement already satisfied: django in /home/gavin/.local/lib/python3.10/site-packages (from image->aperturedb) (5.0.1)\n",
      "Requirement already satisfied: pillow in /home/gavin/.local/lib/python3.10/site-packages (from image->aperturedb) (10.2.0)\n",
      "Requirement already satisfied: contourpy>=1.0.1 in /home/gavin/.local/lib/python3.10/site-packages (from matplotlib->aperturedb) (1.2.0)\n",
      "Requirement already satisfied: cycler>=0.10 in /home/gavin/.local/lib/python3.10/site-packages (from matplotlib->aperturedb) (0.12.1)\n",
      "Requirement already satisfied: fonttools>=4.22.0 in /home/gavin/.local/lib/python3.10/site-packages (from matplotlib->aperturedb) (4.47.2)\n",
      "Requirement already satisfied: kiwisolver>=1.3.1 in /home/gavin/.local/lib/python3.10/site-packages (from matplotlib->aperturedb) (1.4.5)\n",
      "Requirement already satisfied: pyparsing>=2.3.1 in /usr/lib/python3/dist-packages (from matplotlib->aperturedb) (2.4.7)\n",
      "Requirement already satisfied: pytz>=2020.1 in /usr/lib/python3/dist-packages (from pandas->aperturedb) (2022.1)\n",
      "Requirement already satisfied: tzdata>=2022.7 in /home/gavin/.local/lib/python3.10/site-packages (from pandas->aperturedb) (2023.4)\n",
      "Requirement already satisfied: scipy>=1.8 in /home/gavin/.local/lib/python3.10/site-packages (from scikit-image->aperturedb) (1.12.0)\n",
      "Requirement already satisfied: networkx>=2.8 in /home/gavin/.local/lib/python3.10/site-packages (from scikit-image->aperturedb) (3.2.1)\n",
      "Requirement already satisfied: imageio>=2.27 in /home/gavin/.local/lib/python3.10/site-packages (from scikit-image->aperturedb) (2.33.1)\n",
      "Requirement already satisfied: tifffile>=2022.8.12 in /home/gavin/.local/lib/python3.10/site-packages (from scikit-image->aperturedb) (2024.1.30)\n",
      "Requirement already satisfied: lazy_loader>=0.3 in /home/gavin/.local/lib/python3.10/site-packages (from scikit-image->aperturedb) (0.3)\n",
      "Requirement already satisfied: cachetools<6.0,>=2.0.0 in /home/gavin/.local/lib/python3.10/site-packages (from google-auth<3.0dev,>=2.23.3->google-cloud-storage->aperturedb) (5.3.2)\n",
      "Requirement already satisfied: pyasn1-modules>=0.2.1 in /usr/lib/python3/dist-packages (from google-auth<3.0dev,>=2.23.3->google-cloud-storage->aperturedb) (0.2.1)\n",
      "Requirement already satisfied: rsa<5,>=3.1.4 in /home/gavin/.local/lib/python3.10/site-packages (from google-auth<3.0dev,>=2.23.3->google-cloud-storage->aperturedb) (4.9)\n",
      "Requirement already satisfied: zipp>=0.5 in /usr/lib/python3/dist-packages (from importlib-metadata>=4.13.0->dask[complete]->aperturedb) (1.0.0)\n",
      "Requirement already satisfied: comm>=0.1.1 in /usr/local/lib/python3.10/dist-packages (from ipykernel>=4.5.1->ipywidgets->aperturedb) (0.2.1)\n",
      "Requirement already satisfied: debugpy>=1.6.5 in /usr/local/lib/python3.10/dist-packages (from ipykernel>=4.5.1->ipywidgets->aperturedb) (1.8.0)\n",
      "Requirement already satisfied: jupyter-client>=6.1.12 in /usr/local/lib/python3.10/dist-packages (from ipykernel>=4.5.1->ipywidgets->aperturedb) (8.6.0)\n",
      "Requirement already satisfied: jupyter-core!=5.0.*,>=4.12 in /usr/local/lib/python3.10/dist-packages (from ipykernel>=4.5.1->ipywidgets->aperturedb) (5.7.1)\n",
      "Requirement already satisfied: nest-asyncio in /usr/local/lib/python3.10/dist-packages (from ipykernel>=4.5.1->ipywidgets->aperturedb) (1.6.0)\n",
      "Requirement already satisfied: pyzmq>=24 in /usr/local/lib/python3.10/dist-packages (from ipykernel>=4.5.1->ipywidgets->aperturedb) (25.1.2)\n",
      "Requirement already satisfied: parso<0.9.0,>=0.8.3 in /usr/local/lib/python3.10/dist-packages (from jedi>=0.16->ipython->aperturedb) (0.8.3)\n",
      "Requirement already satisfied: jsonpointer>=1.9 in /usr/lib/python3/dist-packages (from jsonpatch<2.0,>=1.33->langchain-core<0.3.0,>=0.2.22->langchain) (2.0)\n",
      "Requirement already satisfied: wcwidth in /usr/local/lib/python3.10/dist-packages (from prompt-toolkit<3.1.0,>=3.0.41->ipython->aperturedb) (0.2.13)\n",
      "Requirement already satisfied: mypy-extensions>=0.3.0 in /home/gavin/.local/lib/python3.10/site-packages (from typing-inspect<1,>=0.4.0->dataclasses-json<0.7,>=0.5.7->langchain-community) (1.0.0)\n",
      "Requirement already satisfied: webencodings in /home/gavin/.local/lib/python3.10/site-packages (from bleach->kaggle!=1.6.15->aperturedb) (0.5.1)\n",
      "Requirement already satisfied: bokeh>=2.4.2 in /home/gavin/.local/lib/python3.10/site-packages (from dask[complete]->aperturedb) (3.3.4)\n",
      "Requirement already satisfied: asgiref<4,>=3.7.0 in /home/gavin/.local/lib/python3.10/site-packages (from django->image->aperturedb) (3.7.2)\n",
      "Requirement already satisfied: sqlparse>=0.3.1 in /home/gavin/.local/lib/python3.10/site-packages (from django->image->aperturedb) (0.4.4)\n",
      "Requirement already satisfied: text-unidecode>=1.3 in /home/gavin/.local/lib/python3.10/site-packages (from python-slugify->kaggle!=1.6.15->aperturedb) (1.3)\n",
      "Requirement already satisfied: pure-eval in /usr/local/lib/python3.10/dist-packages (from stack-data->ipython->aperturedb) (0.2.2)\n",
      "Requirement already satisfied: xyzservices>=2021.09.1 in /home/gavin/.local/lib/python3.10/site-packages (from bokeh>=2.4.2->dask[complete]->aperturedb) (2023.10.1)\n",
      "Requirement already satisfied: platformdirs>=2.5 in /usr/local/lib/python3.10/dist-packages (from jupyter-core!=5.0.*,>=4.12->ipykernel>=4.5.1->ipywidgets->aperturedb) (4.2.0)\n",
      "Requirement already satisfied: pyasn1>=0.1.3 in /usr/lib/python3/dist-packages (from rsa<5,>=3.1.4->google-auth<3.0dev,>=2.23.3->google-cloud-storage->aperturedb) (0.4.8)\n",
      "Note: you may need to restart the kernel to use updated packages.\n"
     ]
    }
   ],
   "source": [
    "%pip install aperturedb langchain langchain-community langchainhub datasets"
   ]
  },
  {
   "cell_type": "markdown",
   "metadata": {},
   "source": [
    "## Load dataset\n",
    "\n",
    "We use the [Hugging Face Datasets library](https://huggingface.co/docs/datasets/en/index) to load a dataset provided by [Cohere](https://cohere.com/).  \n",
    "This contains the content of Wikipedia (from November 2023), already cleaned up, chunked, and with pre-generated embeddings.\n",
    "\n",
    "We've included a restriction on the number of documents in order to speed you through the notebook.\n",
    "Feel free to comment out that line and take breaks instead."
   ]
  },
  {
   "cell_type": "code",
   "execution_count": 14,
   "metadata": {},
   "outputs": [
    {
     "name": "stdout",
     "output_type": "stream",
     "text": [
      "646424\n",
      "10000\n"
     ]
    }
   ],
   "source": [
    "from datasets import load_dataset\n",
    "lang = \"simple\"\n",
    "full_dataset = load_dataset(\"Cohere/wikipedia-2023-11-embed-multilingual-v3\", lang)\n",
    "dataset = full_dataset[\"train\"]\n",
    "print(len(dataset))\n",
    "N_DOCS = 10000\n",
    "dataset = dataset.select(range(N_DOCS)) # Comment this line out to use the full dataset\n",
    "print(len(dataset))"
   ]
  },
  {
   "cell_type": "markdown",
   "metadata": {},
   "source": [
    "## Wrap these embeddings for LangChain\n",
    "\n",
    "LangChain expects a class that will create embeddings on-the-fly, but we have a set of pre-computed embeddings.\n",
    "This is a wrapper class that bridges the gap."
   ]
  },
  {
   "cell_type": "code",
   "execution_count": 15,
   "metadata": {},
   "outputs": [],
   "source": [
    "import langchain_core.embeddings\n",
    "\n",
    "class PrecomputedEmbeddings(langchain_core.embeddings.embeddings.Embeddings):\n",
    "    @classmethod\n",
    "    def from_dataset(class_, dataset):\n",
    "        result = class_()\n",
    "        result.index = {doc['text']: doc['emb'] for doc in dataset}\n",
    "        return result\n",
    "\n",
    "    def embed_documents(self, texts):\n",
    "        # Will throw if text is not in index\n",
    "        return [self.index[text] for text in texts]\n",
    "\n",
    "    def embed_query(self, query):\n",
    "        # Will throw if text is not in index\n",
    "        return self.index[query]"
   ]
  },
  {
   "cell_type": "markdown",
   "metadata": {},
   "source": [
    "Now we can create our LangChain embeddings object that will work on the Wikipedia corpus."
   ]
  },
  {
   "cell_type": "code",
   "execution_count": 16,
   "metadata": {},
   "outputs": [],
   "source": [
    "embeddings = PrecomputedEmbeddings.from_dataset(dataset)"
   ]
  },
  {
   "cell_type": "markdown",
   "metadata": {},
   "source": [
    "## Connect to ApertureDB\n",
    "\n",
    "For the next part, we need access to a specific ApertureDB instance.\n",
    "There are several ways to set this up.\n",
    "The code provided here will accept ApertureDB connection information as a JSON string.\n",
    "See our [Configuration](https://docs.aperturedata.io/Setup/client/configuration) help page for more options."
   ]
  },
  {
   "cell_type": "code",
   "execution_count": 17,
   "metadata": {},
   "outputs": [
    {
     "name": "stdout",
     "output_type": "stream",
     "text": [
      "\u001b[2;36m[21:59:01]\u001b[0m\u001b[2;36m \u001b[0m\u001b[1;33mConfiguration named \u001b[0m\u001b[32m'notebook'\u001b[0m\u001b[1;33m already exists. Use  \u001b[0m \u001b]8;id=820090;file:///home/gavin/github/aperturedb-python/aperturedb/cli/configure.py\u001b\\\u001b[2mconfigure.py\u001b[0m\u001b]8;;\u001b\\\u001b[2m:\u001b[0m\u001b]8;id=373451;file:///home/gavin/github/aperturedb-python/aperturedb/cli/configure.py#158\u001b\\\u001b[2m158\u001b[0m\u001b]8;;\u001b\\\n",
      "\u001b[2;36m           \u001b[0m\u001b[1;33m--overwrite to overwrite.                           \u001b[0m \u001b[2m                \u001b[0m\n"
     ]
    }
   ],
   "source": [
    "! adb config create --from-json --active notebook"
   ]
  },
  {
   "cell_type": "markdown",
   "metadata": {},
   "source": [
    "Here we create a LangChain vectorstore using ApertureDB.\n",
    "We use the default client configuration that we have already set up.\n",
    "\n",
    "If you want to create more than one version of the embeddings, then change the `DESCRIPTOR_SET` name.\n",
    "Find existing descriptor sets using:\n",
    "\n",
    "```\n",
    "ApertureDB.list_vectorstores\n",
    "```\n",
    "\n",
    "You can delete this vectorstore and all documents using:\n",
    "\n",
    "```\n",
    "ApertureDB.delete_vectorstore(DESCRIPTOR_SET)\n",
    "```\n",
    "\n",
    "We know that the Cohere embeddings are 1024-dimensional.\n",
    "See [AddDescriptorSet](https://docs.aperturedata.io/query_language/Reference/descriptor_commands/desc_set_commands/AddDescriptorSet) for more information about selecting an engine and metric.\n",
    "\n",
    "We use the embeddings object we created above, which will be used when we add documents to the vectorstore."
   ]
  },
  {
   "cell_type": "code",
   "execution_count": 18,
   "metadata": {},
   "outputs": [],
   "source": [
    "from langchain_community.vectorstores import ApertureDB\n",
    "\n",
    "DESCRIPTOR_SET = 'cohere_wikipedia_2023_11_embed_multilingual_v3'\n",
    "\n",
    "vectorstore = ApertureDB(\n",
    "    embeddings=embeddings,\n",
    "    descriptor_set=DESCRIPTOR_SET,\n",
    "    dimensions=1024,\n",
    "    engine=\"HNSW\",\n",
    "    metric=\"CS\",\n",
    "    log_level=\"INFO\"\n",
    ")"
   ]
  },
  {
   "cell_type": "markdown",
   "metadata": {},
   "source": [
    "## Convert from Hugging Face to LangChain\n",
    "\n",
    "Hugging Face documents are not exactly the same as LangChain documents so we have to convert them.\n",
    "This will take a few minutes."
   ]
  },
  {
   "cell_type": "code",
   "execution_count": 19,
   "metadata": {},
   "outputs": [
    {
     "name": "stdout",
     "output_type": "stream",
     "text": [
      "10000\n"
     ]
    }
   ],
   "source": [
    "from langchain.docstore.document import Document\n",
    "\n",
    "def hugging_face_document_to_langchain(doc):\n",
    "    return Document(page_content=doc[\"text\"], metadata={\"url\": doc[\"url\"], \"title\": doc[\"title\"], \"id\": doc[\"_id\"]})\n",
    "\n",
    "\n",
    "docs = [hugging_face_document_to_langchain(doc) for doc in dataset]\n",
    "print(len(docs))"
   ]
  },
  {
   "cell_type": "markdown",
   "metadata": {},
   "source": [
    "## Load the documents into the vectorstore\n",
    "\n",
    "Finally, we come to the part where we load the documents into the vectorstore.\n",
    "Again, this will take a little while to run.\n",
    "\n",
    "The full process takes a while, so we've restricted it here to a few thousand documents so you can progress through the notebook.\n",
    "You can remove this limit and go for lunch instead.\n",
    "\n",
    "Once you add the documents, your ApertureDB instance will be hard at work building a high-performance index for them."
   ]
  },
  {
   "cell_type": "code",
   "execution_count": 20,
   "metadata": {},
   "outputs": [],
   "source": [
    "ids = vectorstore.add_documents(docs)"
   ]
  },
  {
   "cell_type": "markdown",
   "metadata": {},
   "source": [
    "Let's check out how many documents are in our vectorstore."
   ]
  },
  {
   "cell_type": "code",
   "execution_count": 21,
   "metadata": {},
   "outputs": [
    {
     "name": "stdout",
     "output_type": "stream",
     "text": [
      "[\n",
      "  {\n",
      "    \"_count\": 12000,\n",
      "    \"_dimensions\": 1024,\n",
      "    \"_engines\": [\n",
      "      \"HNSW\"\n",
      "    ],\n",
      "    \"_metrics\": [\n",
      "      \"CS\"\n",
      "    ],\n",
      "    \"_name\": \"cohere_wikipedia_2023_11_embed_multilingual_v3\",\n",
      "    \"_uniqueid\": \"2.1.7920\"\n",
      "  }\n",
      "]\n"
     ]
    }
   ],
   "source": [
    "import json\n",
    "print(json.dumps([ d for d in ApertureDB.list_vectorstores() if d['_name'] == DESCRIPTOR_SET ], indent=2))"
   ]
  },
  {
   "cell_type": "markdown",
   "metadata": {},
   "source": [
    "## Further information\n",
    "\n",
    "* [LangChain vectorstore integration](https://python.langchain.com/api_reference/community/vectorstores/langchain_community.vectorstores.aperturedb.ApertureDB.html)\n",
    "* [ApertureDB documentation website](https://docs.aperturedata.io/)"
   ]
  },
  {
   "cell_type": "markdown",
   "metadata": {},
   "source": []
  }
 ],
 "metadata": {
  "kernelspec": {
   "display_name": "Python 3",
   "language": "python",
   "name": "python3"
  },
  "language_info": {
   "codemirror_mode": {
    "name": "ipython",
    "version": 3
   },
   "file_extension": ".py",
   "mimetype": "text/x-python",
   "name": "python",
   "nbconvert_exporter": "python",
   "pygments_lexer": "ipython3",
   "version": "3.10.12"
  }
 },
 "nbformat": 4,
 "nbformat_minor": 2
}
