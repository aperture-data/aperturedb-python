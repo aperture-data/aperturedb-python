{
 "cells": [
  {
   "cell_type": "code",
   "execution_count": null,
   "metadata": {},
   "outputs": [],
   "source": [
    "import dask\n",
    "from dask import dataframe\n",
    "import os\n",
    "from aperturedb import EntityDataCSV\n",
    "from dask.distributed import Client, LocalCluster, performance_report\n",
    "\n",
    "\n",
    "batchsize = 4000\n",
    "numthreads = 14\n",
    "\n",
    "cluster = LocalCluster(n_workers=numthreads)\n",
    "client = Client(cluster)\n",
    "dask.config.set(scheduler=\"distributed\")\n",
    "\n",
    "FILENAME = os.path.join('see2.out')\n",
    "\n",
    "ratings = dataframe.read_csv(\n",
    "        FILENAME, blocksize=os.path.getsize(FILENAME) // numthreads)\n"
   ]
  },
  {
   "cell_type": "code",
   "execution_count": null,
   "metadata": {},
   "outputs": [],
   "source": [
    "import dask\n",
    "from dask import dataframe\n",
    "import os\n",
    "from aperturedb import EntityDataCSV\n",
    "from dask.distributed import Client, SSHCluster, performance_report\n",
    "\n",
    "\n",
    "batchsize = 4000\n",
    "numthreads = 8\n",
    "\n",
    "cluster = SSHCluster(\n",
    "    [\"localhost\"],\n",
    "    worker_options = {\"n_workers\": numthreads},\n",
    "    connect_options = { \"username\": \"ubuntu\"}\n",
    ")\n",
    "client = Client(cluster)\n",
    "dask.config.set(scheduler=\"distributed\")\n",
    "\n",
    "FILENAME = os.path.join('see2.out')\n",
    "\n",
    "ratings = dataframe.read_csv(\n",
    "        FILENAME, blocksize=os.path.getsize(FILENAME) // numthreads)\n"
   ]
  },
  {
   "cell_type": "code",
   "execution_count": null,
   "metadata": {},
   "outputs": [],
   "source": [
    "import dask\n",
    "from dask import dataframe\n",
    "import os\n",
    "from aperturedb import EntityDataCSV\n",
    "from dask.distributed import Client, SSHCluster, performance_report\n",
    "\n",
    "\n",
    "client = Client(\"localhost:8786\")\n",
    "dask.config.set(scheduler=\"distributed\")\n",
    "\n"
   ]
  },
  {
   "cell_type": "code",
   "execution_count": null,
   "metadata": {},
   "outputs": [],
   "source": [
    "from aperturedb import Connector\n",
    "\n",
    "batchsize = 4000\n",
    "numthreads = 16\n",
    "FILENAME = os.path.join('see2.out')\n",
    "\n",
    "ratings = dataframe.read_csv(\n",
    "        FILENAME, blocksize=os.path.getsize(FILENAME) // numthreads)\n",
    "\n",
    "\n",
    "# DB_HOST = \"localhost\"\n",
    "DB_HOST = \"www.walmart.on.aperturedata.io\"\n",
    "\n",
    "DB_PORT = 55555\n",
    "DB_USER = \"admin\"\n",
    "# DB_PASSWORD = \"admin\"\n",
    "DB_PASSWORD = \"t.QH[*XR0_^.o0.;wH\"\n",
    "\n",
    "def create_connector():\n",
    "    return Connector.Connector(DB_HOST, DB_PORT, user=DB_USER, password=DB_PASSWORD)\n",
    "\n",
    "\n",
    "def process(df):        \n",
    "    # import dbinfo\n",
    "    from aperturedb.ParallelLoader import ParallelLoader\n",
    "    db = create_connector()\n",
    "    loader = ParallelLoader(db)\n",
    "    count = 0\n",
    "    for i in range(0, len(df), batchsize):\n",
    "        end = min(i + batchsize, len(df))\n",
    "        batch = df[i:end]\n",
    "        data = EntityDataCSV.EntityDataCSV(filename=\"\", df=batch)\n",
    "        loader.ingest(data, batchsize=len(batch), numthreads=1)\n",
    "        count += 1\n",
    "    print(f\"len(df) = {len(df)}, count = {count}\")\n",
    "\n",
    "with performance_report(filename=\"ingestion_report.html\"):\n",
    "    ratings.map_partitions(process).compute()\n"
   ]
  }
 ],
 "metadata": {
  "kernelspec": {
   "display_name": "Python 3.8.10 ('adb-python': venv)",
   "language": "python",
   "name": "python3"
  },
  "language_info": {
   "codemirror_mode": {
    "name": "ipython",
    "version": 3
   },
   "file_extension": ".py",
   "mimetype": "text/x-python",
   "name": "python",
   "nbconvert_exporter": "python",
   "pygments_lexer": "ipython3",
   "version": "3.8.10"
  },
  "orig_nbformat": 4,
  "vscode": {
   "interpreter": {
    "hash": "12b998e5f9970b9ce0862443118fb0675e1360e2606dfbf278f6ebfefaba5d05"
   }
  }
 },
 "nbformat": 4,
 "nbformat_minor": 2
}
