{
 "cells": [
  {
   "attachments": {},
   "cell_type": "markdown",
   "id": "09c265fa",
   "metadata": {},
   "source": [
    "# Load User Defined Data into ApertureDB\n",
    "The following notebook explains how to use ApertureDB's user friendly Python wrappers to add data to the DB."
   ]
  },
  {
   "cell_type": "code",
   "execution_count": null,
   "id": "79c530ff-e3f2-45fc-996e-239f299cf3f2",
   "metadata": {
    "tags": []
   },
   "outputs": [],
   "source": [
    "#Create connections and clean up.\n",
    "\n",
    "from aperturedb.Utils import Utils, create_connector\n",
    "\n",
    "\n",
    "db = create_connector()\n",
    "utils = Utils(db)\n",
    "\n",
    "print(utils.remove_all_objects())\n"
   ]
  },
  {
   "cell_type": "markdown",
   "id": "cc7c5f9e",
   "metadata": {},
   "source": [
    "## Steps"
   ]
  },
  {
   "cell_type": "markdown",
   "id": "24f14ee5",
   "metadata": {},
   "source": [
    "### Declare the user defined models\n",
    "\n",
    "User models are a declarative way to define what objects the user's application will deal with. These are built on top of pydantic's models.\n",
    "\n",
    "There are certain specific subclasses that are meant to be used with ApertureDB's built-in objects for example:\n",
    "\n",
    "- IdentityDataModel\n",
    "- ImageDataModel\n",
    "- VideoDataModel"
   ]
  },
  {
   "cell_type": "code",
   "execution_count": 1,
   "id": "19488593-6400-4110-b27c-6f1e974defc8",
   "metadata": {
    "tags": []
   },
   "outputs": [],
   "source": [
    "from typing import List\n",
    "from enum import Enum\n",
    "\n",
    "from aperturedb.Query import generate_save_query\n",
    "from aperturedb.DataModels import ImageDataModel, IdentityDataModel\n",
    "import random\n",
    "\n",
    "class Side(Enum):\n",
    "    RIGHT = 1\n",
    "    LEFT = 2\n",
    "\n",
    "class Finger(IdentityDataModel):\n",
    "    nail_clean: bool = False\n",
    "\n",
    "class Hand(ImageDataModel):\n",
    "    side: Side = None\n",
    "    thumb: Finger = None\n",
    "    fingers: List[Finger] = []\n",
    "\n",
    "class Person(IdentityDataModel):\n",
    "    name: str =  \"\"\n",
    "    hands : List[Hand] = []\n",
    "    dominant_hand : Hand = None\n",
    "\n",
    "# Helper function to create a Hand with attached fingers.\n",
    "def make_hand(side: Side) -> Hand:\n",
    "    # The field 'file' is enforced by the ImageModel.\n",
    "    hand = Hand(side = side, url= \"../similarity_search/bruce-lee.jpg\")\n",
    "\n",
    "    hand.fingers = [Finger(nail_clean=True) if random.randint(0, 1) == 1  else Finger(nail_clean=False) for i in range(5)]\n",
    "    # thumb is a finger. When persisted in ApertureDB, it should not create a new entity but add a new connection to the same source\n",
    "    # destination node. This also saves a redundant blob upload.\n",
    "    hand.thumb = hand.fingers[0]\n",
    "    return hand\n"
   ]
  },
  {
   "cell_type": "markdown",
   "id": "2ab58785",
   "metadata": {},
   "source": [
    "### Create objects from the defined models\n",
    "\n",
    "Let's create some people with the above schema."
   ]
  },
  {
   "cell_type": "code",
   "execution_count": 2,
   "id": "ac6bc1a8",
   "metadata": {
    "tags": []
   },
   "outputs": [],
   "source": [
    "people = []\n",
    "\n",
    "for i in range(10):\n",
    "    person = Person(name=f\"apertureUser{i+1}\")\n",
    "    left_hand = make_hand(Side.LEFT)\n",
    "    right_hand = make_hand(Side.RIGHT)\n",
    "    person.hands.extend([left_hand, right_hand])\n",
    "    person.dominant_hand = person.hands[0]\n",
    "    people.append(person)\n"
   ]
  },
  {
   "cell_type": "markdown",
   "id": "aa35ff77",
   "metadata": {},
   "source": [
    "### Persist the objects in ApertureDB\n",
    "\n",
    "Without needing to write any queries!"
   ]
  },
  {
   "cell_type": "code",
   "execution_count": null,
   "id": "015074bf",
   "metadata": {
    "tags": []
   },
   "outputs": [],
   "source": [
    "\n",
    "\n",
    "for person in people:\n",
    "    q, b, count = generate_save_query(person)\n",
    "    r, _ = db.query(q, b)\n",
    "\n",
    "    if not db.last_query_ok():\n",
    "        import json\n",
    "        db.print_last_response()\n",
    "        print(json.dumps(q))"
   ]
  },
  {
   "cell_type": "code",
   "execution_count": null,
   "id": "ceb1fcec-035c-4154-8c8a-2e530fa9620d",
   "metadata": {
    "tags": []
   },
   "outputs": [],
   "source": [
    "from devtools import debug\n",
    "\n",
    "# We created a query with 31 commands\n",
    "debug(len(q))\n",
    "\n",
    "connections = list(filter(lambda x: \"AddConnection\" in x, q))\n",
    "#The number of connections is 15. (3 for person to hands, 10 + 2 for hands to fingers)\n",
    "debug(len(connections))\n",
    "\n",
    "#The number of Entities added is 13 (12 for fingers, 1 for person)\n",
    "nodes = list(filter(lambda x: \"AddEntity\" in x, q))\n",
    "debug(len(nodes))\n",
    "\n",
    "#The number of Images added is 2 (2 hands)\n",
    "nodes = list(filter(lambda x: \"AddImage\" in x, q))\n",
    "debug(len(nodes))\n",
    "\n",
    "#The number of Images refered is 1 (1 dominnat hand)\n",
    "nodes = list(filter(lambda x: \"FindImage\" in x, q))\n",
    "debug(len(nodes))\n",
    "\n",
    "# The entire BOM is 31 = 15 + 13 + 2 + 1"
   ]
  }
 ],
 "metadata": {
  "kernelspec": {
   "display_name": "Python 3 (ipykernel)",
   "language": "python",
   "name": "python3"
  },
  "language_info": {
   "codemirror_mode": {
    "name": "ipython",
    "version": 3
   },
   "file_extension": ".py",
   "mimetype": "text/x-python",
   "name": "python",
   "nbconvert_exporter": "python",
   "pygments_lexer": "ipython3",
   "version": "3.11.9"
  },
  "vscode": {
   "interpreter": {
    "hash": "4312208a77128ace89d5a01b41ab4ef291c6ffdca5bdbe63760cb7dc085099b8"
   }
  }
 },
 "nbformat": 4,
 "nbformat_minor": 5
}
